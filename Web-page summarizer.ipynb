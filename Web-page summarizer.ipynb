{
 "cells": [
  {
   "cell_type": "code",
   "execution_count": 6,
   "id": "9ce45b04-6ad3-4fa7-9601-79475d7748bc",
   "metadata": {},
   "outputs": [],
   "source": [
    "import os\n",
    "import requests\n",
    "from dotenv import load_dotenv\n",
    "from bs4 import BeautifulSoup\n",
    "from IPython.display import Markdown, display\n",
    "from openai import OpenAI"
   ]
  },
  {
   "cell_type": "code",
   "execution_count": 7,
   "id": "03ba00f4-97db-4901-b56c-823c1645348e",
   "metadata": {},
   "outputs": [
    {
     "name": "stdout",
     "output_type": "stream",
     "text": [
      "API key found and looks good so far!\n"
     ]
    }
   ],
   "source": [
    "load_dotenv(override=True)\n",
    "api_key = os.getenv('OPENAI_API_KEY')\n",
    "\n",
    "# Check the key\n",
    "\n",
    "if not api_key:\n",
    "    print(\"No API key was found - please head over to the troubleshooting notebook in this folder to identify & fix!\")\n",
    "elif not api_key.startswith(\"sk-proj-\"):\n",
    "    print(\"An API key was found, but it doesn't start sk-proj-; please check you're using the right key - see troubleshooting notebook\")\n",
    "elif api_key.strip() != api_key:\n",
    "    print(\"An API key was found, but it looks like it might have space or tab characters at the start or end - please remove them - see troubleshooting notebook\")\n",
    "else:\n",
    "    print(\"API key found and looks good so far!\")"
   ]
  },
  {
   "cell_type": "code",
   "execution_count": 8,
   "id": "d5f523db-8ad5-49a9-908f-d48c33cc5c71",
   "metadata": {},
   "outputs": [
    {
     "name": "stdout",
     "output_type": "stream",
     "text": [
      "API Key prefix: \n"
     ]
    }
   ],
   "source": [
    "print(\"API Key prefix:\", os.getenv(\"OPENAI_API_KEY\")[:20]) "
   ]
  },
  {
   "cell_type": "code",
   "execution_count": 9,
   "id": "4f6940d6-53cd-4422-9ee3-c76c06ec4146",
   "metadata": {},
   "outputs": [],
   "source": [
    "openai = OpenAI(api_key=os.getenv(\"OPENAI_API_KEY\"))"
   ]
  },
  {
   "cell_type": "raw",
   "id": "ed9c6b49-1ab8-4eaf-a8b2-a668959575d9",
   "metadata": {},
   "source": [
    "We are writing a program which looks at any webpage on the internet, scrapes the contents of the same and then summarizes it and presents back a short summary of that web-page (own little web-browser)"
   ]
  },
  {
   "cell_type": "code",
   "execution_count": 10,
   "id": "41ce6de9-ed61-4e35-b1d4-79dff12c0f28",
   "metadata": {},
   "outputs": [
    {
     "name": "stdout",
     "output_type": "stream",
     "text": [
      "ChatCompletionMessage(content='Hello! How can I assist you today?', refusal=None, role='assistant', annotations=[], audio=None, function_call=None, tool_calls=None)\n"
     ]
    }
   ],
   "source": [
    "resp = openai.chat.completions.create(\n",
    "    model=\"gpt-4o-mini\",\n",
    "    messages=[{\"role\": \"user\", \"content\": \"Hello from test\"}]\n",
    ")\n",
    "\n",
    "print(resp.choices[0].message)"
   ]
  },
  {
   "cell_type": "code",
   "execution_count": 11,
   "id": "37a69164-f998-4771-9416-a4283c3fc1d2",
   "metadata": {},
   "outputs": [],
   "source": [
    "# A class to represent a Webpage\n",
    "headers = {\n",
    " \"User-Agent\": \"Mozilla/5.0 (Windows NT 10.0; Win64; x64) AppleWebKit/537.36 (KHTML, like Gecko) Chrome/117.0.0.0 Safari/537.36\"\n",
    "}\n",
    "\n",
    "class Website:\n",
    "\n",
    "    def __init__(self, url):\n",
    "        \"\"\"\n",
    "        Create this Website object from the given url using the BeautifulSoup library\n",
    "        \"\"\"\n",
    "        self.url = url\n",
    "        response = requests.get(url, headers=headers)\n",
    "        print('The response is:\\n ', response)\n",
    "        soup = BeautifulSoup(response.content, 'html.parser')\n",
    "        self.title = soup.title.string if soup.title else \"No title found\"\n",
    "        #print('Soup body:/n ', soup.body)\n",
    "        for irrelevant in soup.body([\"script\", \"style\", \"img\", \"input\"]):\n",
    "            irrelevant.decompose()\n",
    "        self.text = soup.body.get_text(separator=\"\\n\", strip=True)"
   ]
  },
  {
   "cell_type": "code",
   "execution_count": 21,
   "id": "ce5a431a-8be9-416c-9241-be9cf1bd23d2",
   "metadata": {
    "editable": true,
    "slideshow": {
     "slide_type": ""
    },
    "tags": []
   },
   "outputs": [
    {
     "name": "stdout",
     "output_type": "stream",
     "text": [
      "The response is:\n",
      "  <Response [200]>\n"
     ]
    }
   ],
   "source": [
    "mysite = Website(\"https://www.playstation.com/en-us\")"
   ]
  },
  {
   "cell_type": "code",
   "execution_count": 22,
   "id": "5e885efd-7eed-404b-8950-1e014187e925",
   "metadata": {},
   "outputs": [
    {
     "name": "stdout",
     "output_type": "stream",
     "text": [
      "PlayStation® Official Site: Consoles, Games, Accessories & More\n"
     ]
    }
   ],
   "source": [
    "print(mysite.title)"
   ]
  },
  {
   "cell_type": "code",
   "execution_count": 27,
   "id": "72c78086-9b47-462f-95c6-6df096f126b5",
   "metadata": {},
   "outputs": [],
   "source": [
    "#print(mysite.text)"
   ]
  },
  {
   "cell_type": "raw",
   "id": "5f3dff65-6e06-4beb-adec-3613e3b17c24",
   "metadata": {},
   "source": [
    "Types of prompts:\n",
    "\n",
    "Models like GPT4o have been trained to receive instructions in a particular way.\n",
    "\n",
    "They expect to receive:\n",
    "\n",
    "1. A system prompt that tells them what task they are performing and what tone they should use\n",
    "\n",
    "2. A user prompt -- the conversation starter that they should reply to"
   ]
  },
  {
   "cell_type": "code",
   "execution_count": 12,
   "id": "4a1b007c-8df7-42a8-bfae-f206c5ff974b",
   "metadata": {
    "editable": true,
    "slideshow": {
     "slide_type": ""
    },
    "tags": []
   },
   "outputs": [],
   "source": [
    "system_prompt = \"You are an assistant that analyzes the contents of a website \\\n",
    "and provides a short summary, ignoring text that might be navigation related. \\\n",
    "Respond in markdown.\""
   ]
  },
  {
   "cell_type": "code",
   "execution_count": 13,
   "id": "54d090ac-99e4-47dd-994f-2e3af2f439a7",
   "metadata": {
    "editable": true,
    "slideshow": {
     "slide_type": ""
    },
    "tags": []
   },
   "outputs": [],
   "source": [
    "# A function that writes a User Prompt that asks for summaries of websites:\n",
    "\n",
    "def user_prompt_for(website):\n",
    "    user_prompt = f\"You are looking at a website titled {website.title}\"\n",
    "    user_prompt += \"\\nThe contents of this website is as follows; \\\n",
    "please provide a short summary of this website in markdown. \\\n",
    "If it includes news or announcements, then summarize these too.\\n\\n\"\n",
    "    user_prompt += website.text\n",
    "    return user_prompt"
   ]
  },
  {
   "cell_type": "code",
   "execution_count": 19,
   "id": "0b3b46d6-49c5-495c-a3f1-759a9d5d253e",
   "metadata": {},
   "outputs": [],
   "source": [
    "# print(user_prompt_for(mysite))"
   ]
  },
  {
   "cell_type": "raw",
   "id": "17b04c17-e90a-49a3-bbd2-75190e09c2d5",
   "metadata": {
    "editable": true,
    "slideshow": {
     "slide_type": ""
    },
    "tags": []
   },
   "source": [
    "The API from OpenAI expects to receive messages in a particular structure (python list of dictionaries). Many of the other APIs share this structure:\n",
    "\n",
    "[\n",
    "    {\"role\": \"system\", \"content\": \"system message goes here\"},\n",
    "    {\"role\": \"user\", \"content\": \"user message goes here\"}\n",
    "]"
   ]
  },
  {
   "cell_type": "code",
   "execution_count": 14,
   "id": "ad4afdfd-7b8e-4a75-8025-bab06a647f1f",
   "metadata": {
    "editable": true,
    "slideshow": {
     "slide_type": ""
    },
    "tags": []
   },
   "outputs": [],
   "source": [
    "def messages_for(website):\n",
    "    return [\n",
    "        {\"role\": \"system\", \"content\": system_prompt},\n",
    "        {\"role\": \"user\", \"content\": user_prompt_for(website)}\n",
    "    ]"
   ]
  },
  {
   "cell_type": "code",
   "execution_count": 29,
   "id": "5c217184-a3fc-4021-85da-5ef427ae51df",
   "metadata": {},
   "outputs": [],
   "source": [
    "#messages_for(mysite)"
   ]
  },
  {
   "cell_type": "code",
   "execution_count": 15,
   "id": "e1e8b72e-6b34-4a44-915d-e020f55a03ad",
   "metadata": {
    "editable": true,
    "slideshow": {
     "slide_type": ""
    },
    "tags": []
   },
   "outputs": [],
   "source": [
    "# calling the OpenAI API (completions API):\n",
    "\n",
    "def summarize(url):\n",
    "    website = Website(url)\n",
    "    response = openai.chat.completions.create(\n",
    "        model = \"gpt-4o-mini\", # will cost fractions of a cent!\n",
    "        messages = messages_for(website)\n",
    "    )\n",
    "    return response.choices[0].message.content"
   ]
  },
  {
   "cell_type": "code",
   "execution_count": 16,
   "id": "c5bdb202-17c7-452e-8ea6-06e8a1eed020",
   "metadata": {},
   "outputs": [
    {
     "name": "stdout",
     "output_type": "stream",
     "text": [
      "The response is:\n",
      "  <Response [200]>\n"
     ]
    },
    {
     "data": {
      "text/plain": [
       "\"# PlayStation® Official Site Summary\\n\\nThe PlayStation® Official Site showcases a variety of products and promotions for its gaming consoles, games, accessories, and subscription services, primarily focusing on the PlayStation 5 (PS5).\\n\\n## Key Highlights:\\n\\n### Upcoming Releases\\n- **Call of Duty: Black Ops 7**: Set to be released on **November 14, 2025**, offering a co-op campaign, multiplayer, and Zombies mode.\\n- **Where Winds Meet**: An epic open-world RPG launching on **November 14, 2025**.\\n- **Mafia: The Old Country**: Currently available on PS5.\\n- Other notable titles include **Death Stranding 2**, **Metal Gear Solid Δ**, and **Ghost of Yōtei Legends DLC**.\\n\\n### Promotions\\n- Pre-order options are available for upcoming games and significant savings are currently offered on various titles through a PlayStation Store promotion.\\n\\n### Accessories\\n- A comprehensive list of PS5 consoles and accessories is available, including:\\n  - **DualSense™ Wireless Controller**\\n  - **PULSE Elite™ Wireless Headset**\\n  - **Media Remote**\\n  - Customizable **Access™ Controller** and various color options for console covers.\\n\\n### PlayStation Plus\\n- Offers multiple subscription plans (Premium, Extra, Essential) to access a vast catalog of games, including new titles every month, online multiplayer, and exclusive discounts.\\n\\n### 30th Anniversary Celebration\\n- The site is commemorating 30 years of PlayStation with special events and retrospectives on its history.\\n\\n## News and Announcements\\n- Adjustments to the **PlayStation 5's** pricing in the U.S., effective **August 21, 2025**.\\n- Updates from Gamescom 2025, including major game reveals and hands-on gameplay experiences.\\n- Ongoing events that coincide with the latest game releases and seasonal promotions.\\n\\nThis succinctly encapsulates the essential offerings and updates featured on the PlayStation® Official Site as of now.\""
      ]
     },
     "execution_count": 16,
     "metadata": {},
     "output_type": "execute_result"
    }
   ],
   "source": [
    "summarize(\"https://www.playstation.com/en-us\")"
   ]
  },
  {
   "cell_type": "code",
   "execution_count": 17,
   "id": "e6e9dd84-c0db-4a94-9d81-a113ed3e89b2",
   "metadata": {},
   "outputs": [],
   "source": [
    "# function to display the above returned content in a readable manner:"
   ]
  },
  {
   "cell_type": "code",
   "execution_count": 19,
   "id": "4a093eac-92e0-47aa-a77e-90c75ed5d278",
   "metadata": {},
   "outputs": [],
   "source": [
    "def display_summary(url):\n",
    "    summary = summarize(url)\n",
    "    display(Markdown(summary))"
   ]
  },
  {
   "cell_type": "code",
   "execution_count": 22,
   "id": "8527f803-344f-42dd-9c07-1be0793842e5",
   "metadata": {},
   "outputs": [
    {
     "name": "stdout",
     "output_type": "stream",
     "text": [
      "The response is:\n",
      "  <Response [200]>\n"
     ]
    },
    {
     "data": {
      "text/markdown": [
       "# PlayStation® Official Site Summary\n",
       "\n",
       "The **PlayStation® Official Site** offers a range of information and promotions regarding its consoles, games, and accessories. Key highlights include:\n",
       "\n",
       "## Upcoming Titles:\n",
       "- **Call of Duty: Black Ops 7**: Launching on PS5 on **November 14**. Pre-orders are now available.\n",
       "- **Where Winds Meet**: An epic Wuxia action-adventure RPG launching on **November 14, 2025**.\n",
       "  \n",
       "## Current Games & Promotions:\n",
       "- A special promotion offers big savings on various titles in the PlayStation Store.\n",
       "- Notable releases available now include **Madden NFL 26**, **Mafia: The Old Country**, and **Sword of the Sea**.\n",
       "\n",
       "## PlayStation Plus:\n",
       "- Discover a variety of plans including **Essential**, **Extra**, and **Premium**, offering access to hundreds of games, online multiplayer, and exclusive discounts.\n",
       "\n",
       "## Accessory Offerings:\n",
       "- Features of the PS5 console and accessories are highlighted, including the **DualSense™ Wireless Controller**, **PULSE Elite™ Wireless Headset**, and **Access™ Controller** aimed at inclusivity.\n",
       "\n",
       "## 30-Year Celebration:\n",
       "- PlayStation is marking its 30th anniversary with special events and a retrospective on its history.\n",
       "\n",
       "## Recent News Highlights:\n",
       "- **Price Increase Announcement**: The recommended retail price for PS5 consoles in the U.S. will increase effective **August 21, 2025**.\n",
       "- **New Game Trailers**: Recent titles such as **Resident Evil Requiem** and **Onimusha: Way of the Sword** were showcased at Gamescom with upcoming releases expected in 2026.\n",
       "\n",
       "This site serves as a comprehensive platform for PlayStation enthusiasts, detailing current offerings, news, and future releases in the gaming world."
      ],
      "text/plain": [
       "<IPython.core.display.Markdown object>"
      ]
     },
     "metadata": {},
     "output_type": "display_data"
    }
   ],
   "source": [
    "# considering the PlayStation's open website:\n",
    "display_summary(\"https://www.playstation.com/en-us\")"
   ]
  },
  {
   "cell_type": "code",
   "execution_count": null,
   "id": "54e84a2e-a1d6-45a2-86ee-8f8d34b94003",
   "metadata": {},
   "outputs": [],
   "source": []
  }
 ],
 "metadata": {
  "kernelspec": {
   "display_name": "Python 3 (ipykernel)",
   "language": "python",
   "name": "python3"
  },
  "language_info": {
   "codemirror_mode": {
    "name": "ipython",
    "version": 3
   },
   "file_extension": ".py",
   "mimetype": "text/x-python",
   "name": "python",
   "nbconvert_exporter": "python",
   "pygments_lexer": "ipython3",
   "version": "3.11.13"
  }
 },
 "nbformat": 4,
 "nbformat_minor": 5
}
